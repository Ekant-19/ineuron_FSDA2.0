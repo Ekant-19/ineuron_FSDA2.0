{
 "cells": [
  {
   "cell_type": "markdown",
   "id": "eec8e5a5",
   "metadata": {},
   "source": [
    "Que 1) Plot a histogram,\n",
    "10, 13, 18, 22, 27, 32, 38, 40, 45, 51, 56, 57, 88, 90, 92, 94, 99"
   ]
  },
  {
   "cell_type": "code",
   "execution_count": 4,
   "id": "3337135b",
   "metadata": {},
   "outputs": [
    {
     "data": {
      "text/plain": [
       "<AxesSubplot:ylabel='Count'>"
      ]
     },
     "execution_count": 4,
     "metadata": {},
     "output_type": "execute_result"
    },
    {
     "data": {
      "image/png": "[encoded data removed]",
      "text/plain": [
       "<Figure size 432x288 with 1 Axes>"
      ]
     },
     "metadata": {
      "needs_background": "light"
     },
     "output_type": "display_data"
    }
   ],
   "source": [
    "import seaborn as sns \n",
    "\n",
    "data = [10, 13, 18, 22, 27, 32, 38, 40, 45, 51, 56, 57, 88, 90, 92, 94, 99]\n",
    "sns.histplot(data, bins=10, kde=False, color='skyblue', edgecolor='black')"
   ]
  },
  {
   "cell_type": "markdown",
   "id": "00f2a47f",
   "metadata": {},
   "source": [
    "Que 2) In a quant test of the CAT Exam, the population standard deviation is known to be 100. A sample of 25 tests taken has a mean of 520. Construct an 80% CI about the mean.\n"
   ]
  },
  {
   "cell_type": "markdown",
   "id": "6d087df9",
   "metadata": {},
   "source": [
    "To construct an 80% confidence interval (CI) about the mean for the given sample, we can use the formula for the confidence interval for the population mean when the population standard deviation is known:\n",
    "\n",
    "CI = x̄ ± Z * (σ/√n)\n",
    "\n",
    "where:\n",
    "\n",
    "x̄ is the sample mean (520 in this case) |\n",
    "Z is the critical value for the desired confidence level (80% confidence corresponds to a Z-value of 1.28, which can be obtained from the standard normal distribution table) |\n",
    "σ is the population standard deviation (known to be 100 in this case) |\n",
    "n is the sample size (25 in this case) |"
   ]
  },
  {
   "cell_type": "code",
   "execution_count": 8,
   "id": "8b07c092",
   "metadata": {},
   "outputs": [
    {
     "name": "stdout",
     "output_type": "stream",
     "text": [
      "80% Confidence Interval: (494.4, 545.6)\n"
     ]
    }
   ],
   "source": [
    "import math\n",
    "\n",
    "sample_mean = 520\n",
    "population_stddev = 100\n",
    "sample_size = 25\n",
    "confidence_level = 0.80\n",
    "critical_value = 1.28\n",
    "\n",
    "standard_error = population_stddev/math.sqrt(sample_size)\n",
    "margin_of_error = critical_value*standard_error\n",
    "\n",
    "lower_bound = sample_mean-margin_of_error\n",
    "upper_bound = sample_mean+margin_of_error\n",
    "\n",
    "print(f\"80% Confidence Interval: ({lower_bound}, {upper_bound})\")"
   ]
  },
  {
   "cell_type": "markdown",
   "id": "08c85f38",
   "metadata": {},
   "source": [
    "Que 3) A car believes that the percentage of citizens in city ABC that owns a vehicle is 60% or less. A sales manager disagrees with this. He conducted a hypothesis testing surveying 250 residents & found that 170 residents responded yes to owning a vehicle.\n",
    "(A) State the null & alternate hypothesis.\n",
    "(B) At a 10% significance level, is there enough evidence to support the idea that vehicle owner in ABC city is 60% or less.\n"
   ]
  },
  {
   "cell_type": "markdown",
   "id": "f5b4b9ea",
   "metadata": {},
   "source": [
    "Null Hypothesis (H0): The percentage of citizens in city ABC who own a vehicle is 60% or less.\n",
    "Alternative Hypothesis (Ha): The percentage of citizens in city ABC who own a vehicle is more than 60%.\n",
    "\n",
    "Now, let's conduct the hypothesis test using the given data:\n",
    "\n",
    "Sample size (n) = 250\n",
    "Number of residents responding yes to owning a vehicle (x) = 170\n",
    "\n",
    "To test the hypothesis, we will perform a one-sample proportion test using the Z-test since the sample size is large.\n",
    "\n",
    "The formula for the Z-test for a proportion is:\n",
    "Z = (p̂ - p0) / √(p0 * (1 - p0) / n)\n",
    "\n",
    "Where:\n",
    "\n",
    "p̂ is the sample proportion (x/n) |\n",
    "p0 is the hypothesized population proportion (60% or 0.60 in this case) |\n",
    "n is the sample size (250 in this case)"
   ]
  },
  {
   "cell_type": "code",
   "execution_count": 11,
   "id": "ffa8326c",
   "metadata": {},
   "outputs": [
    {
     "name": "stdout",
     "output_type": "stream",
     "text": [
      "There is enough evidence to reject the null hypothesis.This means that we can conclude that the percentage of citizens in city ABC who own a vehicle is more than 60%.\n"
     ]
    }
   ],
   "source": [
    "import math\n",
    "\n",
    "\n",
    "n = 250\n",
    "x = 170\n",
    "p0 = 0.60  # Null hypothesis proportion\n",
    "\n",
    "# Calculate the sample proportion\n",
    "p_hat = x / n\n",
    "\n",
    "# Calculate the standard error\n",
    "standard_error = math.sqrt(p0 * (1 - p0) / n)\n",
    "\n",
    "# Calculate the Z-statistic\n",
    "Z = (p_hat - p0) / standard_error\n",
    "\n",
    "# Significance level\n",
    "alpha = 0.10\n",
    "\n",
    "# Critical Z-value for a one-tailed test at 10% significance level\n",
    "critical_Z = 1.28\n",
    "\n",
    "# Check if the Z-statistic is greater than the critical Z-value\n",
    "if Z > critical_Z:\n",
    "    print(\"There is enough evidence to reject the null hypothesis.This means that we can conclude that the percentage of citizens in city ABC who own a vehicle is more than 60%.\")\n",
    "else:\n",
    "    print(\"There is not enough evidence to reject the null hypothesis.This means that we can conclude that the percentage of citizens in city ABC who own a vehicle is less or equal to 60%.\")"
   ]
  },
  {
   "cell_type": "markdown",
   "id": "9130f34d",
   "metadata": {},
   "source": [
    "Que 4) What is the value of the 99 percentile?\n",
    "2,2,3,4,5,5,5,6,7,8,8,8,8,8,9,9,10,11,11,12"
   ]
  },
  {
   "cell_type": "code",
   "execution_count": 15,
   "id": "17513469",
   "metadata": {},
   "outputs": [
    {
     "name": "stdout",
     "output_type": "stream",
     "text": [
      "99th percentile value: 11.809999999999999\n"
     ]
    }
   ],
   "source": [
    "import numpy as np\n",
    "\n",
    "data = [2, 2, 3, 4, 5, 5, 5, 6, 7, 8, 8, 8, 8, 8, 9, 9, 10, 11, 11, 12]\n",
    "\n",
    "percentile_rank = 99\n",
    "\n",
    "# Calculate the 99th percentile using NumPy\n",
    "percentile_value = np.percentile(data, percentile_rank)\n",
    "\n",
    "print(\"99th percentile value:\", percentile_value)"
   ]
  },
  {
   "cell_type": "markdown",
   "id": "b302b001",
   "metadata": {},
   "source": [
    "Que 5) In left & right-skewed data, what is the relationship between mean, median & mode?\n",
    "Draw the graph to represent the same."
   ]
  },
  {
   "cell_type": "markdown",
   "id": "aa485f18",
   "metadata": {},
   "source": [
    "In left-skewed and right-skewed data, the relationship between mean, median, and mode can be summarized as follows:\n",
    "\n",
    "Left-Skewed Data:\n",
    "Mean < Median < Mode\n",
    "\n",
    "Right-Skewed Data:\n",
    "Mode < Median < Mean"
   ]
  },
  {
   "cell_type": "code",
   "execution_count": 17,
   "id": "19194476",
   "metadata": {},
   "outputs": [
    {
     "data": {
      "image/png": "[encoded data removed]",
      "text/plain": [
       "<Figure size 720x360 with 2 Axes>"
      ]
     },
     "metadata": {
      "needs_background": "light"
     },
     "output_type": "display_data"
    }
   ],
   "source": [
    "import numpy as np\n",
    "import matplotlib.pyplot as plt\n",
    "\n",
    "left_skewed_data = np.random.normal(40, 10, 1000)  # Mean = 40, Standard Deviation = 10\n",
    "\n",
    "right_skewed_data = 100 - np.random.normal(40, 10, 1000)  # Mean = 40, Standard Deviation = 10\n",
    "\n",
    "mean_left = np.mean(left_skewed_data)\n",
    "median_left = np.median(left_skewed_data)\n",
    "mode_left = np.argmax(np.bincount(np.round(left_skewed_data).astype(int)))\n",
    "\n",
    "mean_right = np.mean(right_skewed_data)\n",
    "median_right = np.median(right_skewed_data)\n",
    "mode_right = np.argmax(np.bincount(np.round(right_skewed_data).astype(int)))\n",
    "\n",
    "plt.figure(figsize=(10, 5))\n",
    "plt.subplot(1, 2, 1)\n",
    "plt.hist(left_skewed_data, bins=50, edgecolor='black')\n",
    "plt.axvline(mean_left, color='red', linestyle='dashed', linewidth=2, label='Mean')\n",
    "plt.axvline(median_left, color='green', linestyle='dashed', linewidth=2, label='Median')\n",
    "plt.axvline(mode_left, color='blue', linestyle='dashed', linewidth=2, label='Mode')\n",
    "plt.title(\"Left-Skewed Data\")\n",
    "plt.legend()\n",
    "\n",
    "plt.subplot(1, 2, 2)\n",
    "plt.hist(right_skewed_data, bins=50, edgecolor='black')\n",
    "plt.axvline(mean_right, color='red', linestyle='dashed', linewidth=2, label='Mean')\n",
    "plt.axvline(median_right, color='green', linestyle='dashed', linewidth=2, label='Median')\n",
    "plt.axvline(mode_right, color='blue', linestyle='dashed', linewidth=2, label='Mode')\n",
    "plt.title(\"Right-Skewed Data\")\n",
    "plt.legend()\n",
    "\n",
    "plt.tight_layout()\n",
    "plt.show()"
   ]
  }
 ],
 "metadata": {
  "kernelspec": {
   "display_name": "Python 3 (ipykernel)",
   "language": "python",
   "name": "python3"
  },
  "language_info": {
   "codemirror_mode": {
    "name": "ipython",
    "version": 3
   },
   "file_extension": ".py",
   "mimetype": "text/x-python",
   "name": "python",
   "nbconvert_exporter": "python",
   "pygments_lexer": "ipython3",
   "version": "3.9.12"
  }
 },
 "nbformat": 4,
 "nbformat_minor": 5
}
